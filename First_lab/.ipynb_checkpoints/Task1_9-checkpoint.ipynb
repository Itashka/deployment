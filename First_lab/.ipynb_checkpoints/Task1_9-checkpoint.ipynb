{
 "cells": [
  {
   "cell_type": "code",
   "execution_count": 1,
   "metadata": {},
   "outputs": [],
   "source": [
    "def BoolToStr(wha):\n",
    "    lvl = 1\n",
    "#     Конвертирует заданное булевое значение в строку.\n",
    "    \n",
    "#     Before: (False)\n",
    "#     After: 'False'\n",
    "    \n",
    "#     Before: (True)\n",
    "#     After: 'True'\n",
    "\n",
    "    txt = str(wha)\n",
    "    return txt"
   ]
  },
  {
   "cell_type": "code",
   "execution_count": 2,
   "metadata": {
    "scrolled": true
   },
   "outputs": [],
   "source": [
    "def Reverse(rev):\n",
    "    lvl = 2\n",
    "#     Возвращает строку в обратном порядке.\n",
    "    \n",
    "#     Before: (\"False\")\n",
    "#     After: 'eslaF'\n",
    "    \n",
    "#     Before: (\"True\")\n",
    "#     After: 'eurT'\n",
    "\n",
    "    revT = rev[::-1]\n",
    "    return revT"
   ]
  },
  {
   "cell_type": "code",
   "execution_count": 3,
   "metadata": {
    "scrolled": false
   },
   "outputs": [],
   "source": [
    "def SumPos(mas):\n",
    "    lvl = 3\n",
    "#     Возвращает сумму всех положительных значений.\n",
    "#     Если массив пустой, то сумма равна 0.\n",
    "    \n",
    "#     Before: ([1, -1, 2, -3, -4])\n",
    "#     After: 3\n",
    "    \n",
    "#     Before: ([-1, 1, -2, 3, 4])\n",
    "#     After: 8\n",
    "    \n",
    "#     Before: ([])\n",
    "#     After: 0\n",
    "\n",
    "    sum_pos = 0\n",
    "    if (len(mas) == 0):\n",
    "        return 0\n",
    "    else:\n",
    "        for el in mas:\n",
    "            if el > 0:\n",
    "                sum_pos += el\n",
    "    return sum_pos"
   ]
  },
  {
   "cell_type": "code",
   "execution_count": 25,
   "metadata": {},
   "outputs": [],
   "source": [
    "def Tringle(size):\n",
    "\n",
    "#     Выводит треугольник из символов *.\n",
    "#     Высота треугольника равна числу, которое вы введете.\n",
    "    \n",
    "#     Before: (5)\n",
    "#     After: \n",
    "#         *  \n",
    "#        * *  \n",
    "#       * * *  \n",
    "#      * * * *  \n",
    "#     * * * * * \n",
    "    \n",
    "#     Before: (7)\n",
    "#     After: \n",
    "#             *  \n",
    "#            * *  \n",
    "#           * * *  \n",
    "#          * * * *  \n",
    "#         * * * * *  \n",
    "#        * * * * * *  \n",
    "#       * * * * * * *\n",
    "\n",
    "    tr_str = ''\n",
    "    m = (2 * size) - 2\n",
    "    for i in range(0, size):\n",
    "        for j in range(0, m):\n",
    "            tr_str += ' '\n",
    "        m = m - 1 # уменьшение m после каждого прохода цикла\n",
    "        for j in range(0, i + 1):\n",
    "            # вывод пирамиды из звёздочек\n",
    "            tr_str += '* ' \n",
    "        tr_str += ' \\n'\n",
    "    return tr_str"
   ]
  },
  {
   "cell_type": "code",
   "execution_count": 26,
   "metadata": {},
   "outputs": [],
   "source": [
    "def CountRepeat(string):\n",
    "\n",
    "#     Возвращает количество символов, которые встречаются в строке более одного раза.\n",
    "#     Регистр символов не учитывается.\n",
    "    \n",
    "#     Before: ('asdazxcqweds')\n",
    "#     After: 3\n",
    "    \n",
    "#     Before: ('aaaaassssddbbzzzqqqeer')\n",
    "#     After: 7\n",
    "\n",
    "    k = {}\n",
    "    for i in string:\n",
    "        if i in k:\n",
    "            k[i] += 1\n",
    "        else:\n",
    "            k[i] = 1\n",
    "            \n",
    "    sum_keys = 0\n",
    "    for key, value in k.items():\n",
    "        if value > 1:\n",
    "            sum_keys = sum_keys + 1\n",
    "    return sum_keys\n",
    "\n"
   ]
  },
  {
   "cell_type": "code",
   "execution_count": 27,
   "metadata": {},
   "outputs": [
    {
     "name": "stdout",
     "output_type": "stream",
     "text": [
      "camels-have-three-humps\n"
     ]
    }
   ],
   "source": [
    "def Camel(text):\n",
    "\n",
    "#     Преобразует вводимую строку в стиль kebab-case. \n",
    "#     Возвращаемая строка должна содержать только символы в нижнем регистре. \n",
    "    \n",
    "#     Before: ('camelsHaveThreeHumps')\n",
    "#     After: 'camels-have-three-humps'\n",
    "    \n",
    "#     Before: ('HiAllImNewbie')\n",
    "#     After: '-hi-all-im-newbie'\n",
    "\n",
    "    for i in text:\n",
    "        if(i.isupper()):\n",
    "            text = text.replace(i, f'-{i.lower()}')\n",
    "    return text\n",
    "\n",
    "text = 'camelsHaveThreeHumps'\n",
    "print(Camel(text))"
   ]
  },
  {
   "cell_type": "code",
   "execution_count": 28,
   "metadata": {},
   "outputs": [
    {
     "data": {
      "text/plain": [
       "'3130'"
      ]
     },
     "execution_count": 28,
     "metadata": {},
     "output_type": "execute_result"
    }
   ],
   "source": [
    "from collections import Counter\n",
    "def Preobraz(n):\n",
    "\n",
    "#     Преобразует число в другое по следующему принципу:\n",
    "    \n",
    "#     Before: (1)\n",
    "#     After: 11\n",
    "    \n",
    "#     Before: (21)\n",
    "#     After: 1211\n",
    "    \n",
    "#     Before: (222222222222)\n",
    "#     After: 122\n",
    "\n",
    "    n = str(n)\n",
    "    k = \"\"\n",
    "    c = Counter(n)\n",
    "    for i in c:\n",
    "        k = k + str(c[i]) + i\n",
    "    return k\n",
    "n = 101010\n",
    "Preobraz(str(n))"
   ]
  },
  {
   "cell_type": "code",
   "execution_count": 29,
   "metadata": {},
   "outputs": [],
   "source": [
    "def Sort(a):\n",
    "\n",
    "#     Преобразует число в другое по следующему принципу:\n",
    "    \n",
    "#     Before: ([7, 8, 1])\n",
    "#     After: [1, 8, 7]\n",
    "    \n",
    "#     Before: ([5, 8, 6, 3, 4])\n",
    "#     After: [3, 8, 6, 5, 4]\n",
    "    \n",
    "#     Before: ([0, -2, -1, -3, 5, 7, 11, -11])\n",
    "#     After: [0, -2, -11, -3, -1, 5, 7, 11]\n",
    "\n",
    "    b = sorted([item for item in a if item%2 != 0])\n",
    "    odd_int = 0\n",
    "    for i in range(len(a)):\n",
    "        if a[i] %2 != 0:\n",
    "            a[i] = b[odd_int]\n",
    "            odd_int += 1\n",
    "    return a"
   ]
  },
  {
   "cell_type": "code",
   "execution_count": 10,
   "metadata": {},
   "outputs": [],
   "source": [
    "import os\n",
    "\n",
    "def write_to_file(text, out_path: str) -> str:\n",
    "    text = str(text)\n",
    "    dir_path = os.path.dirname(out_path)\n",
    "    os.makedirs(dir_path, exist_ok=True)\n",
    "    with open(out_path, 'a') as file:\n",
    "        file.write(text + '\\n')"
   ]
  },
  {
   "cell_type": "code",
   "execution_count": 33,
   "metadata": {},
   "outputs": [],
   "source": [
    "write_to_file(\n",
    "    text=CountRepeat('aaaaassssddbbzzzqqqeer'),\n",
    "    out_path = './lab_1/5.txt'\n",
    ")"
   ]
  },
  {
   "cell_type": "code",
   "execution_count": 11,
   "metadata": {},
   "outputs": [
    {
     "data": {
      "text/plain": [
       "[3, 8, 6, 5, 4]"
      ]
     },
     "execution_count": 11,
     "metadata": {},
     "output_type": "execute_result"
    }
   ],
   "source": [
    "Sort([5, 8, 6, 3, 4])"
   ]
  },
  {
   "cell_type": "code",
   "execution_count": 12,
   "metadata": {},
   "outputs": [
    {
     "data": {
      "text/plain": [
       "'True'"
      ]
     },
     "execution_count": 12,
     "metadata": {},
     "output_type": "execute_result"
    }
   ],
   "source": [
    "BoolToStr(True)"
   ]
  },
  {
   "cell_type": "code",
   "execution_count": null,
   "metadata": {},
   "outputs": [],
   "source": []
  }
 ],
 "metadata": {
  "kernelspec": {
   "display_name": "Python 3 (ipykernel)",
   "language": "python",
   "name": "python3"
  },
  "language_info": {
   "codemirror_mode": {
    "name": "ipython",
    "version": 3
   },
   "file_extension": ".py",
   "mimetype": "text/x-python",
   "name": "python",
   "nbconvert_exporter": "python",
   "pygments_lexer": "ipython3",
   "version": "3.10.9"
  },
  "vscode": {
   "interpreter": {
    "hash": "81794d4967e6c3204c66dcd87b604927b115b27c00565d3d43f05ba2f3a2cb0d"
   }
  }
 },
 "nbformat": 4,
 "nbformat_minor": 4
}
